{
 "cells": [
  {
   "cell_type": "markdown",
   "metadata": {},
   "source": [
    "# Proyecto: Análisis de Precios de Vivienda en Boston\n",
    "\n",
    "**Objetivo:** Analizar los datos del censo para proporcionar información a la alta dirección sobre los precios de viviendas en Boston usando estadísticas y visualizaciones.\n"
   ]
  },
  {
   "cell_type": "code",
   "execution_count": null,
   "metadata": {},
   "outputs": [],
   "source": [
    "import piplite\n",
    "await piplite.install(['numpy', 'pandas', 'seaborn'])"
   ]
  },
  {
   "cell_type": "code",
   "execution_count": null,
   "metadata": {},
   "outputs": [],
   "source": [
    "import pandas as pd\n",
    "import seaborn as sns\n",
    "import matplotlib.pyplot as pyplot\n",
    "import scipy.stats\n",
    "import statsmodels.api as sm\n",
    "from statsmodels.formula.api import ols"
   ]
  },
  {
   "cell_type": "code",
   "execution_count": null,
   "metadata": {},
   "outputs": [],
   "source": [
    "from js import fetch\n",
    "import io\n",
    "\n",
    "URL = 'https://cf-courses-data.s3.us.cloud-object-storage.appdomain.cloud/IBMDeveloperSkillsNetwork-ST0151EN-SkillsNetwork/labs/boston_housing.csv'\n",
    "resp = await fetch(URL)\n",
    "boston_url = io.BytesIO((await resp.arrayBuffer()).to_py())"
   ]
  },
  {
   "cell_type": "code",
   "execution_count": null,
   "id": "a18c2cde",
   "metadata": {},
   "outputs": [],
   "source": [
    "boston_df = pd.read_csv(boston_url)"
   ]
  },
  {
   "cell_type": "markdown",
   "metadata": {},
   "source": [
    "## Tarea 1: Exploración del Dataset"
   ]
  },
  {
   "cell_type": "code",
   "execution_count": null,
   "metadata": {},
   "outputs": [],
   "source": [
    "boston_df.head()"
   ]
  },
  {
   "cell_type": "code",
   "execution_count": null,
   "metadata": {},
   "outputs": [],
   "source": [
    "boston_df.info()"
   ]
  },
  {
   "cell_type": "markdown",
   "metadata": {},
   "source": [
    "## Tarea 2: Estadísticas descriptivas y visualizaciones"
   ]
  },
  {
   "cell_type": "code",
   "execution_count": null,
   "metadata": {},
   "outputs": [],
   "source": [
    "sns.boxplot(data=boston_df, y='MEDV')\n",
    "pyplot.title(\"Boxplot del valor medio de viviendas (MEDV)\")\n",
    "pyplot.ylabel(\"Valor medio (en miles de dólares)\")\n",
    "pyplot.show()"
   ]
  },
  {
   "cell_type": "code",
   "execution_count": null,
   "metadata": {},
   "outputs": [],
   "source": [
    "sns.countplot(data=boston_df, x='CHAS')\n",
    "pyplot.title(\"Distribución de viviendas respecto al río Charles\")\n",
    "pyplot.xlabel(\"0 = No al lado del río, 1 = Al lado del río\")\n",
    "pyplot.ylabel(\"Cantidad\")\n",
    "pyplot.show()"
   ]
  },
  {
   "cell_type": "code",
   "execution_count": null,
   "metadata": {},
   "outputs": [],
   "source": [
    "\n",
    "boston_df['AGE_CAT'] = pd.cut(boston_df['AGE'], bins=[0, 35, 70, 100], labels=['<=35', '35-70', '>=70'])\n",
    "sns.boxplot(x='AGE_CAT', y='MEDV', data=boston_df)\n",
    "pyplot.title(\"Boxplot de MEDV por antigüedad\")\n",
    "pyplot.xlabel(\"Grupo de Edad\")\n",
    "pyplot.ylabel(\"MEDV\")\n",
    "pyplot.show()"
   ]
  },
  {
   "cell_type": "code",
   "execution_count": null,
   "metadata": {},
   "outputs": [],
   "source": [
    "sns.scatterplot(x='INDUS', y='NOX', data=boston_df)\n",
    "pyplot.title(\"Dispersión: NOX vs INDUS\")\n",
    "pyplot.xlabel(\"INDUS\")\n",
    "pyplot.ylabel(\"NOX\")\n",
    "pyplot.show()"
   ]
  },
  {
   "cell_type": "code",
   "execution_count": null,
   "metadata": {},
   "outputs": [],
   "source": [
    "sns.histplot(boston_df['PTRATIO'], bins=15, kde=True)\n",
    "pyplot.title(\"Histograma del ratio alumno/profesor\")\n",
    "pyplot.xlabel(\"PTRATIO\")\n",
    "pyplot.ylabel(\"Frecuencia\")\n",
    "pyplot.show()"
   ]
  },
  {
   "cell_type": "markdown",
   "metadata": {},
   "source": [
    "## Tarea 3: Pruebas estadísticas"
   ]
  },
  {
   "cell_type": "code",
   "execution_count": null,
   "metadata": {},
   "outputs": [],
   "source": [
    "group0 = boston_df[boston_df['CHAS'] == 0]['MEDV']\n",
    "group1 = boston_df[boston_df['CHAS'] == 1]['MEDV']\n",
    "t_stat, p_val = scipy.stats.ttest_ind(group0, group1, equal_var=False)\n",
    "print(f\"t = {t_stat:.4f}, p = {p_val:.4f}\")"
   ]
  },
  {
   "cell_type": "code",
   "execution_count": null,
   "metadata": {},
   "outputs": [],
   "source": [
    "model = ols('MEDV ~ C(AGE_CAT)', data=boston_df).fit()\n",
    "anova_table = sm.stats.anova_lm(model, typ=2)\n",
    "print(anova_table)"
   ]
  },
  {
   "cell_type": "code",
   "execution_count": null,
   "metadata": {},
   "outputs": [],
   "source": [
    "r, p = scipy.stats.pearsonr(boston_df['NOX'], boston_df['INDUS'])\n",
    "print(f\"r = {r:.4f}, p = {p:.4f}\")"
   ]
  },
  {
   "cell_type": "code",
   "execution_count": null,
   "metadata": {},
   "outputs": [],
   "source": [
    "reg_model = ols('MEDV ~ DIS', data=boston_df).fit()\n",
    "print(reg_model.summary())"
   ]
  }
 ],
 "metadata": {
  "kernelspec": {
   "display_name": "Python 3",
   "language": "python",
   "name": "python3"
  },
  "language_info": {
   "codemirror_mode": {
    "name": "ipython",
    "version": 3
   },
   "file_extension": ".py",
   "mimetype": "text/x-python",
   "name": "python",
   "nbconvert_exporter": "python",
   "pygments_lexer": "ipython3",
   "version": "3.13.2"
  }
 },
 "nbformat": 4,
 "nbformat_minor": 5
}
